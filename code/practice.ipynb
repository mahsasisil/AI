{
 "cells": [
  {
   "cell_type": "code",
   "execution_count": 2,
   "metadata": {},
   "outputs": [],
   "source": [
    "import re\n",
    "import pandas as pd\n",
    "import numpy as np\n",
    "import seaborn as sns"
   ]
  },
  {
   "cell_type": "code",
   "execution_count": 5,
   "metadata": {},
   "outputs": [
    {
     "name": "stdout",
     "output_type": "stream",
     "text": [
      "Dog are funnier than cat.\n",
      "Dog\n",
      "funnier\n"
     ]
    }
   ],
   "source": [
    "line='Dog are funnier than cat.'\n",
    "matchobj=re.match(r'(.*) are (.*?) .*' , line , re.M|re.I)\n",
    "print(matchobj.group())\n",
    "print(matchobj.group(1))\n",
    "print(matchobj.group(2))"
   ]
  },
  {
   "cell_type": "code",
   "execution_count": 6,
   "metadata": {},
   "outputs": [
    {
     "name": "stdout",
     "output_type": "stream",
     "text": [
      "phone Num :  (674)-222-3333 \n",
      "6742223333\n"
     ]
    }
   ],
   "source": [
    "phone='(674)-222-3333 # this is phone number'\n",
    "num= re.sub(r'#.*$','',phone)\n",
    "print('phone Num : ',num)\n",
    "num=re.sub('\\D',\"\",num)\n",
    "print(num)"
   ]
  },
  {
   "cell_type": "code",
   "execution_count": 3,
   "metadata": {},
   "outputs": [
    {
     "name": "stdout",
     "output_type": "stream",
     "text": [
      "['647-222-5555']\n"
     ]
    }
   ],
   "source": [
    "phone='647-222-5555 this is my phone'\n",
    "r = re.compile(\"\\d{3}-\\d{3}-\\d{4}\")\n",
    "result = r.findall(phone)\n",
    "print(result)"
   ]
  },
  {
   "cell_type": "code",
   "execution_count": null,
   "metadata": {},
   "outputs": [],
   "source": [
    "text='ab.dd@gmail.co'\n",
    "r = re.compile(r\"^[\\w\\.\\+\\-]+\\@[\\w]+\\.[a-z]{2,3}$\")\n",
    "result = r.findall(text)\n",
    "print(result)"
   ]
  },
  {
   "cell_type": "code",
   "execution_count": null,
   "metadata": {},
   "outputs": [],
   "source": [
    "phone='647-222-5555 this is my phone'\n",
    "r = re.compile(\"\\d{3}-\\d{3}-\\d{4}\")\n",
    "result = r.findall(phone)\n",
    "print(result)"
   ]
  },
  {
   "cell_type": "code",
   "execution_count": null,
   "metadata": {},
   "outputs": [],
   "source": [
    "phone='647-222-5555'\n",
    "p = re.compile(\"\\d{3}-\\d{3}-\\d{4}\")\n",
    "result=p.match(phone)\n",
    "print(bool(result))"
   ]
  }
 ],
 "metadata": {
  "kernelspec": {
   "display_name": "Python 3",
   "language": "python",
   "name": "python3"
  },
  "language_info": {
   "codemirror_mode": {
    "name": "ipython",
    "version": 3
   },
   "file_extension": ".py",
   "mimetype": "text/x-python",
   "name": "python",
   "nbconvert_exporter": "python",
   "pygments_lexer": "ipython3",
   "version": "3.7.7"
  }
 },
 "nbformat": 4,
 "nbformat_minor": 4
}
